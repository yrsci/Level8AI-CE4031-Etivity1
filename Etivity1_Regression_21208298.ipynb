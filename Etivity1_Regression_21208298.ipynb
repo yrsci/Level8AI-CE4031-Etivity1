{
 "cells": [
  {
   "cell_type": "markdown",
   "metadata": {},
   "source": [
    "Name: Yvonne Ryan\n",
    "    \n",
    "Student ID: 21208298"
   ]
  },
  {
   "cell_type": "markdown",
   "metadata": {
    "collapsed": true
   },
   "source": [
    "## E-tivity 1: Manual gradient descent\n",
    "\n",
    "In this E-tivity, we will be looking at fitting data to a polynomial, using a manual *gradient descent* approach. This is an important approach that will be fundamental to our neural network models when we get to them later.\n",
    "\n",
    "Please skim through the whole notebook before getting started, as some of the later tasks might influence your choice of design of the early parts.\n",
    "\n",
    "\n",
    "\n",
    "Grading guidelines:\n",
    "\n",
    "**Beginning [0-8]** Task 1 and 2 mostly complete: random data is generated based on a second degree polynomial, jittered, plotted and a loss function can numerically assess the error between actual and predicted outputs.\n",
    "\n",
    "**Developing [9-12]** Beginning + Task 3 and 4 mostly complete: gradients are calculated and used to update a random model that reduces loss. Gradient descent is implemented, but may not converge towards an acceptable solution. Some of the requested plots may be missing.\n",
    "\n",
    "**Accomplished [13-16]** Developing + gradient descent properly converges towards a solution and all requested plots are provided.\n",
    "\n",
    "**Exemplary [17-20]** Accomplished + Task 5 demonstrated on a 3rd order polynomial example.\n",
    "\n",
    "\n",
    "To implement the tasks add cells to the notebook in the appropriate places. Marks will be deducted if the notebook cannot be exexcuted using \"Run All\".\n",
    "\n",
    "**To complete the e-tivity submit your notebook with the code for Tasks 1-5. Do not post Task 5 to gitlab.**"
   ]
  },
  {
   "cell_type": "markdown",
   "metadata": {},
   "source": [
    "### Task 1 - Generating some data\n",
    "\n",
    "We're not going to take any pre-existing data set. Instead, we're going to generate our own data, so we will know exactly what the formula behind it is. We will then start from a random (bad) model and try to fit it to the data as best as we can.\n",
    "\n",
    "- Start by choosing coefficients for a second degree polynomial equation ($ax^2+bx+c$) that will distribute the data you will try to model. That polynomial will be the ideal solution. For example, given respective values of $(2,-4,1)$ for $(a,b,c)$, our base polynomial is: $$y=2x^2-4x+1$$\n",
    "- Implement an evaluation function for any second degree polynomial, which, given a set of coefficients and a given input $x$ returns the corresponding $y$.\n",
    "- Now in order to simulate imperfect/noisy data, write a jittery evaluation function for any polynomial, which, for a given set of coefficients, a given input $x$ and an extra jitter parameter $j$ returns not the corresponding $y$ value but a random value in the interval: $[y-j, y+j]$.\n",
    "- Generate some data by generating 100 random $x$ values in the $[-10,10]$ interval and calling your jittery evaluation function on them. Store those matching $x$ and $y$ values as you see fit.\n",
    "- Finally, using matplotlib, plot that training data."
   ]
  },
  {
   "cell_type": "markdown",
   "metadata": {},
   "source": [
    "**Tip: numpy array processing:**\n",
    "\n",
    "In this E-tivity, you will be manipulating not single numbers but arrays of numbers. It is strongly recommended that you use numpy arrays for that kind of data, and take advantage of in-built array processing for your functions. See the example below for a square function that can seemlessly be used on single values or numpy arrays:"
   ]
  },
  {
   "cell_type": "code",
   "execution_count": 325,
   "metadata": {},
   "outputs": [
    {
     "name": "stdout",
     "output_type": "stream",
     "text": [
      "4\n",
      "9\n",
      "81\n",
      "[ 4  9 81]\n",
      "TypeError detected\n"
     ]
    }
   ],
   "source": [
    "%matplotlib inline \n",
    "import numpy as np\n",
    "\n",
    "# this square function will work just fine if x is a numpy array\n",
    "def my_square_function(x):\n",
    "    return x*x\n",
    "\n",
    "# testing single values\n",
    "print( my_square_function( 2 ) )\n",
    "print( my_square_function( 3 ) )\n",
    "print( my_square_function( 9 ) )\n",
    "\n",
    "# testing multiple values: numpy array first, then standard python tuple\n",
    "print( my_square_function( np.array([2, 3, 9]) ) ) # works\n",
    "try:\n",
    "    print( my_square_function( [2, 3, 9] ) )       # doesn't work\n",
    "except TypeError:\n",
    "    print( \"TypeError detected\" )"
   ]
  },
  {
   "cell_type": "markdown",
   "metadata": {},
   "source": [
    "Importing the numpy module as 'np' is a typical convention that you will often find in other people's code. Finally, while you likely won't require much more from numpy for this particular E-tivity, feel free to look up some documentation/tutorials if you're curious: it's a key Python module that you're likely to use a lot over time.\n",
    "\n",
    "[Would you like to know more?](https://jakevdp.github.io/PythonDataScienceHandbook/02.02-the-basics-of-numpy-arrays.html)"
   ]
  },
  {
   "cell_type": "markdown",
   "metadata": {},
   "source": [
    "**Tip: generating random numbers:**\n",
    "\n",
    "You will need a way to generate random numbers. A simple way to do that is through the **random** module whose *random.random()* function will return you a random value between 0 and 1 using a uniform distribution. Simply multiply that by a maximum value and you will get a random number between 0 and your maximum.\n",
    "\n",
    "The **numpy** module also has its own random functions, which directly support arrays. The *numpy.random.rand(n)* function will return an array of $n$ random values between 0 and 1. Again, we can simply multiply that array by a maximum value to convert all $[0,1]$ interval values to the $[0,maximum]$ interval."
   ]
  },
  {
   "cell_type": "code",
   "execution_count": 326,
   "metadata": {},
   "outputs": [
    {
     "name": "stdout",
     "output_type": "stream",
     "text": [
      "Random value 0-1: 0.06199062294596491\n",
      "Random value 0-1: 0.5257573141317295\n",
      "Random value 0-1: 0.8057018164089775\n",
      "Random value 0-100: 33.28533358607505\n",
      "Random value 0-100: 40.775575306643965\n",
      "Random value 0-100: 91.31326407873519\n",
      "10 random values 0-1[0.7730416  0.21199913 0.31333722 0.82197935 0.70623684 0.11096413\n",
      " 0.42042539 0.01261499 0.12114815 0.66600845]\n",
      "10 random values 0-1[0.70850516 0.77850745 0.57438992 0.52458276 0.57330684 0.05243867\n",
      " 0.89331712 0.68671484 0.27366239 0.49643995]\n",
      "10 random values 0-1[0.50582296 0.26007303 0.05444437 0.99881705 0.92886293 0.91514196\n",
      " 0.81878726 0.69612799 0.25211694 0.46379722]\n",
      "10 random values 0-100[96.16068934 14.02614754 56.09109724 66.20955816 69.78636334 35.17713452\n",
      " 62.90075506 20.03116509 37.06874768 70.68354358]\n",
      "10 random values 0-100[43.32491392 68.6745521  74.45318966 76.23619634 40.1098645  27.80991347\n",
      " 80.93754479 12.38425356 40.92869973  5.89999904]\n",
      "10 random values 0-100[67.15270477 11.62267693 72.70893704 76.15668481 18.70910504 19.11784394\n",
      " 77.08504177 56.43489584 55.38609893 34.87373401]\n"
     ]
    }
   ],
   "source": [
    "## random numbers examples\n",
    "\n",
    "import random\n",
    "\n",
    "print( \"Random value 0-1: \" + str( random.random() ) )\n",
    "print( \"Random value 0-1: \" + str( random.random() ) )\n",
    "print( \"Random value 0-1: \" + str( random.random() ) )\n",
    "print( \"Random value 0-100: \" + str( random.random() * 100 ) )\n",
    "print( \"Random value 0-100: \" + str( random.random() * 100 ) )\n",
    "print( \"Random value 0-100: \" + str( random.random() * 100 ) )\n",
    "\n",
    "import numpy as np\n",
    "\n",
    "print( \"10 random values 0-1\" + str( np.random.rand(10) ))\n",
    "print( \"10 random values 0-1\" + str( np.random.rand(10) ))\n",
    "print( \"10 random values 0-1\" + str( np.random.rand(10) ))\n",
    "print( \"10 random values 0-100\" + str( np.random.rand(10) * 100 ))\n",
    "print( \"10 random values 0-100\" + str( np.random.rand(10) * 100 ))\n",
    "print( \"10 random values 0-100\" + str( np.random.rand(10) * 100 ))"
   ]
  },
  {
   "cell_type": "markdown",
   "metadata": {},
   "source": [
    "**Tip: basic plotting with matplotlib:**\n",
    "\n",
    "The *matplotlib.pyplot()* function will be your basic plotting device. Simply call it with two matching sets of numbers, the first being the $x$ values and the second being the $y$ values. Then, an optional third parameter is used to define what you want to draw using those points. The two letter codes in the example below show you how the first character determines a colour ('b' for blue, 'r' for red, 'g' for green) and the second one the type of graphic object to draw ('-' for a line, 'o' for big dots, '+' for crosses). Note how you can overlay multiple plots together before rendering to screen.\n",
    "\n",
    "[Would you like to know more?](https://matplotlib.org/tutorials/introductory/pyplot.html)"
   ]
  },
  {
   "cell_type": "code",
   "execution_count": 327,
   "metadata": {},
   "outputs": [
    {
     "data": {
      "image/png": "[encoded data removed]",
      "text/plain": [
       "<Figure size 432x288 with 1 Axes>"
      ]
     },
     "metadata": {
      "needs_background": "light"
     },
     "output_type": "display_data"
    },
    {
     "data": {
      "image/png": "[encoded data removed]",
      "text/plain": [
       "<Figure size 432x288 with 1 Axes>"
      ]
     },
     "metadata": {
      "needs_background": "light"
     },
     "output_type": "display_data"
    },
    {
     "data": {
      "image/png": "[encoded data removed]",
      "text/plain": [
       "<Figure size 432x288 with 1 Axes>"
      ]
     },
     "metadata": {
      "needs_background": "light"
     },
     "output_type": "display_data"
    }
   ],
   "source": [
    "# matplotlib pyplot, basic plotting\n",
    "import matplotlib.pyplot as plt\n",
    "\n",
    "# blue line\n",
    "plt.plot([1,2,3,4], [1,4,9,16], 'b-')\n",
    "plt.show()\n",
    "\n",
    "# red dots\n",
    "plt.plot([1,2,3,4], [1,4,9,16], 'ro')\n",
    "plt.show()\n",
    "\n",
    "# red line, blue dots and green crosses\n",
    "plt.plot([1,2,3,4], [1,4,9,16], 'r-')\n",
    "plt.plot([1,2,3,4], [1,4,9,16], 'bo')\n",
    "plt.plot([1.5,2.5,3.5,4.5], [3,-2,9,11.4], 'g+')\n",
    "plt.show()"
   ]
  },
  {
   "cell_type": "markdown",
   "metadata": {},
   "source": [
    "## Task 2 - Loss\n",
    "\n",
    "- Generate and store random coefficients for a second degree polynomial ($y=ax^2+bx+c$), this will be your model, which you will aim to improve until it fits the data well enough.\n",
    "- Calculate your model's predicted $\\bar{y}$ output values from the Task 1 training data $x$ input values.\n",
    "- For all the training $x$ values, plot both actual values (the $y$ values from the training data) and the predicted values (the $\\bar{y}$ values from your model) on the same graph, to get an immediate visualisation of how good (or more likely how bad) your current model is.\n",
    "- Implement a loss function, which, given actual values and predicted values, returns the mean squared error. This provides you with a quantified evaluation of how bad the model is: the lower the loss, the better the model.\n",
    "\n",
    "**Tip: Mean Squared Error (MSE):**\n",
    "\n",
    "The MSE is the mean value of the sum of squared differences between actual and predicted outputs. So for input values $x_1,\\dots,x_n$, with actual outputs $y_1,\\dots,y_n$ and predicted values $\\bar{y}_1$ to $\\bar{y}_n$, the MSE $E$ is: $$E=\\frac{1}{n}\\sum\\limits_{i=1}^{n}{(y_i-\\bar{y}_i)^2}$$\n",
    "\n",
    "**Tip: Numpy (again):**\n",
    "\n",
    "Numpy arrays have handy methods to be summed up, mean'ed, etc. Using these may spare you some manual loops."
   ]
  },
  {
   "cell_type": "markdown",
   "metadata": {},
   "source": [
    "## Task 3 - Gradient calculation and loss reduction\n",
    "\n",
    "In order to make your model fit the data better, you want to modify its $a$, $b$ and $c$ coefficients so that the error decreases. That means you first need to know how each coefficient affects the error. We can achieve this by calculating the partial derivative of your loss function with respect to each indifidual coefficient.\n",
    "\n",
    "In our case, our loss function is the MSE, so this is the function we will want to calculate partial derivatives on:\n",
    "$$E=\\frac{1}{n}\\sum\\limits_{i=1}^{n}{(y_i-\\bar{y}_i)^2}$$\n",
    "\n",
    "With:\n",
    "$$\\bar{y}_i = ax_i^2+bx_i+c$$\n",
    "\n",
    "So we can reformulate our loss as:\n",
    "$$E=\\frac{1}{n}\\sum\\limits_{i=1}^{n}{(y_i-(ax_i^2+bx_i+c))^2}$$\n",
    "\n",
    "In this specific case, our partial derivatives for that loss function are the following:\n",
    "\n",
    "- Partial derivative with respect to $a$:\n",
    "$$\\frac{dE}{da}=\\frac{-2}{n}\\sum\\limits_{i=1}^{n}{x_i^2(y_i-(ax_i^2+bx_i+c))}$$\n",
    "\n",
    "- Partial derivative with respect to $b$:\n",
    "$$\\frac{dE}{db}=\\frac{-2}{n}\\sum\\limits_{i=1}^{n}{x_i(yi-(ax_i^2+bx_i+c))}$$\n",
    "\n",
    "- Partial derivative with respect to $c$:\n",
    "$$\\frac{dE}{dc}=\\frac{-2}{n}\\sum\\limits_{i=1}^{n}{(y_i-(ax_i^2+bx_i+c))}$$\n",
    "\n",
    "If you calculate the value of each derivatives when filling up all other variables, what you get is the $gradients$ for your coefficients. These are the values that give you the slope of the loss function with regards to each specific coefficient, indicating whether you should increase or decrease it to reduce the loss, and also by how much it should be safe to do so.\n",
    "\n",
    "Given coefficients $a$, $b$ and $c$, calculated gradients $g_a$, $g_b$ and $g_c$ and a learning rate $lr$, you typically would update your coefficients so that their new, updated values are defined as below:\n",
    "\n",
    "$$a_{new}=a-lr\\times g_a$$\n",
    "$$b_{new}=b-lr\\times g_b$$\n",
    "$$c_{new}=c-lr\\times g_c$$\n",
    "\n",
    "If you apply that new model to the data, your loss should have decreased.\n",
    "\n",
    "- Decide on a learning rate to start with. It should be a small value, try starting with $0.0001$ but feel free to experiment with different values.\n",
    "- Implement a gradient calculation function which, given a second degree polynomial's coefficients, as well as a set of inputs $x$ and a corresponding set of actual outputs $y$ will return the respective gradients for each coefficient.\n",
    "- Check the loss of your current model, call your gradient calculation function, adjust your model's coefficients accordingly, and check that the updated model's loss is smaller.\n",
    "- Check this improvement visually by plotting training data, original model and updated model on a same plot."
   ]
  },
  {
   "cell_type": "markdown",
   "metadata": {},
   "source": [
    "## Task 4 - Gradient descent\n",
    "\n",
    "All the pieces are in place to converge onto a solution and you can finish implementing your gradient descent.:\n",
    "\n",
    "- Iterate over the following steps:\n",
    "    - evaluate current model loss\n",
    "    - calculate gradients\n",
    "    - adjust model coefficients\n",
    "    - calculate new model loss\n",
    "- As you do so, store the loss at each step or every $n$ steps.\n",
    "- Choose and implement a condition to decide when to stop iterating, and return the final results when that condition is met.\n",
    "- Plot both your actual $x$ and $y$ training data and your $x$ and $\\bar{y}$ predicted data, and see how your final model fares. Print out the final coefficients: they shouldn't be too far off the ones you used to generate the data originally.\n",
    "- Plot the loss value over iterations."
   ]
  },
  {
   "cell_type": "markdown",
   "metadata": {},
   "source": [
    "## Task 5 - Gradient descent: All of the polynomials!\n",
    "\n",
    "If you've reach this point, well done! You have implemented your own gradient descent approach to fitting a second degree polynomial to any given data set. As a final step, see if you can take the challenge a bit further by adapting your code to polynomial models of any arbitrary degree.\n",
    "\n",
    "For a polynomial of any order, using the MSE as loss function, the generic formula for the gradient $g_k$ of the coefficient of the $k^{th}$ degree is the following:\n",
    "$$g_k=\\frac{-2}{n}\\sum\\limits_{i=1}^{n}{x_i^k(y_i-\\bar{y}_i)}$$\n",
    "\n",
    "With this in mind, see if you can implement a new codebase that will try to fit a polynomials of any degree instead of being hard coded to the second degree.\n",
    "\n",
    "Note that you may need to work on a smaller data interval, for example $[-2,2]$ and with small coefficients, in order to avoid running into overflow errors. While your code should be generic and theoretically cover polynomials of any given order, it's good enough if you can demonstrate that it works on a 3rd order polynomial example."
   ]
  },
  {
   "cell_type": "markdown",
   "metadata": {},
   "source": [
    "## Solution"
   ]
  },
  {
   "cell_type": "markdown",
   "metadata": {},
   "source": [
    "First, import NumPy and Matplotlib modules and define all functions."
   ]
  },
  {
   "cell_type": "code",
   "execution_count": 328,
   "metadata": {},
   "outputs": [],
   "source": [
    "# Import modules\n",
    "import numpy as np\n",
    "import matplotlib.pyplot as plt"
   ]
  },
  {
   "cell_type": "code",
   "execution_count": 338,
   "metadata": {},
   "outputs": [],
   "source": [
    "def add_jitter(y_vals, j):\n",
    "    '''Add pseudorandom noise (i.e. jitter) to a 1D array.\n",
    "    \n",
    "    Inputs:\n",
    "        y_vals -- 1D array of coordinates to add noise to\n",
    "        j -- Jitter parameter\n",
    "    Returns:\n",
    "        Array of noisy coordinates\n",
    "    '''\n",
    "    \n",
    "    try:\n",
    "        j_vals = np.ones_like(y_vals)\n",
    "        for i in range(0,len(j_vals)):\n",
    "            j_vals[i] *= (np.random.rand() * 2*j) - j\n",
    "\n",
    "        return y_vals + j_vals\n",
    "\n",
    "    except Error as e:\n",
    "        print('Error creating jitter array: {}'.format(e))  \n",
    "        \n",
    "        \n",
    "def compute_poly(poly, x):\n",
    "    '''Evaluates a single-variable polynomial for a given value of x.\n",
    "    \n",
    "    Inputs:\n",
    "        poly -- List of coefficient, power tuples of form \n",
    "                    [(1st coeff., 1st power), ..., (nth coeff., nth power)]\n",
    "        x -- NumPy array of input values to poly function\n",
    "    Returns:\n",
    "        run_total -- NumPy array of poly function outputs corresponding to each input value in x\n",
    "    '''\n",
    "    try:\n",
    "        # Evaluate each term in the polynomial and add it to a running total\n",
    "        run_total = 0\n",
    "        for term in poly:\n",
    "            run_total += term[0] * x ** term[1]\n",
    "\n",
    "        return run_total\n",
    "\n",
    "    except Error as e:\n",
    "        print('Error evaluating polynomial: {}'.format(e))     \n",
    "    \n",
    "\n",
    "def quad_poly(coeff_bound):\n",
    "    '''Generates a quadratic polynomial with random coefficients.\n",
    "        \n",
    "    Inputs:\n",
    "        coeff_bound -- Max. possible magnitude of each coefficient, i.e. -coeff_bound <= coeff. <= coeff_bound\n",
    "    Returns:\n",
    "        List of tuples\n",
    "    '''\n",
    "    try:\n",
    "        # Generate 3 random coefficients for polynomial terms\n",
    "        coeffs = [(np.random.rand() * (coeff_bound*2)) - coeff_bound for n in range(0,3)]\n",
    "    \n",
    "        # Construct & return a 2nd order polynomial with these coefficients\n",
    "        return [(coeffs[0],2),(coeffs[1],1),(coeffs[2],0)]\n",
    "    \n",
    "    except Error as e:\n",
    "        print('Error creating polynomial: {}'.format(e))    \n",
    "    \n",
    "\n",
    "def least_squares(actual,predicted):\n",
    "    '''Calculates the Least Squares Error of predicted values vs. actual values.\n",
    "        \n",
    "    Inputs:\n",
    "        actual -- NumPy array of actual y values (i.e. output we are trying to predict)\n",
    "        predicted -- NumPy array of predicted y values\n",
    "    Returns:\n",
    "        Least Squares Error of predicted values vs. actual values.\n",
    "    '''    \n",
    "    try:\n",
    "        # Calculate & return least squares error\n",
    "        return np.mean((actual - predicted)**2)\n",
    "    \n",
    "    except Error as e:\n",
    "        print('Error calculating LSE: {}'.format(e))\n",
    "        \n",
    "        \n",
    "def update_coeffs(model, x, y):\n",
    "    '''Update coefficients of a polynomial using partial derivative of Least Squares Error per coefficient.\n",
    "        \n",
    "    Inputs:\n",
    "        model -- Polynomial represented as list of coefficient, power tuples of form \n",
    "                    [(1st coeff., 1st power), ..., (nth coeff., nth power)]\n",
    "        x -- NumPy array of input values to model\n",
    "        y -- NumPy array of actual outputs of poly function\n",
    "    Returns:\n",
    "        updated_poly -- Polynomial with coefficients updated to give lower LSE than the original input poly\n",
    "    ''' \n",
    "    \n",
    "    def LSE_partial_deriv(poly, x, y):\n",
    "        '''Calculates partial derivative of Least Squares Error function w.r.t. each polynomial coefficient.\n",
    "\n",
    "        Returns:\n",
    "            partial_deriv -- NumPy array of partial derivative w.r.t. each coefficient\n",
    "        ''' \n",
    "\n",
    "        sum_terms = np.zeros((len(poly),len(x)))\n",
    "\n",
    "        for i in range(0,len(poly)):\n",
    "            for j in range(0,len(x)):\n",
    "                sum_term = (x[j]**poly[i][1])*y[j] - poly[0][0]*(x[j]**(poly[i][1]+2)) - poly[1][0]*(x[j]**(poly[i][1]+1)) - poly[2][0]*(x[j]**poly[i][1])\n",
    "                sum_terms[i][j] = sum_term\n",
    "\n",
    "        partial_deriv = (-2/len(x)) * np.sum(sum_terms, axis=1)\n",
    "\n",
    "        return partial_deriv    \n",
    "    \n",
    "    lr = 0.0001\n",
    "    \n",
    "    partial_deriv = LSE_partial_deriv(poly, x, y)\n",
    "    \n",
    "    updated_poly = []\n",
    "    for i in range(0,len(poly)):\n",
    "        updated_poly.append((poly[i][0] - (lr * partial_deriv[i]), poly[i][1]))\n",
    "    \n",
    "    return updated_poly"
   ]
  },
  {
   "cell_type": "markdown",
   "metadata": {},
   "source": [
    "### Task 1 solution - Generating some data\n",
    "\n",
    "Polynomial chosen: $f(x) = 2x^2 - 3x + 1$\n",
    "\n",
    "This is represented in Python as a list of tuples: [(2, 2), (-3, 1), (1, 0)]"
   ]
  },
  {
   "cell_type": "code",
   "execution_count": 339,
   "metadata": {},
   "outputs": [],
   "source": [
    "# Set parameter values\n",
    "true_poly = [(2,2),(-3,1),(1,0)]\n",
    "j = 20\n",
    "\n",
    "# Generate x & y values\n",
    "x = np.arange(-10,10,0.2)\n",
    "y_clean = compute_poly(true_poly, x)\n",
    "y_train = add_jitter(y_clean, j)"
   ]
  },
  {
   "cell_type": "code",
   "execution_count": 340,
   "metadata": {},
   "outputs": [
    {
     "data": {
      "image/png": "[encoded data removed]",
      "text/plain": [
       "<Figure size 432x288 with 1 Axes>"
      ]
     },
     "metadata": {
      "needs_background": "light"
     },
     "output_type": "display_data"
    }
   ],
   "source": [
    "# Plot the training data & the 'true curve' it is based on\n",
    "fig1 = plt.figure()\n",
    "plt.plot(x, y_clean, label='$f(x)$')\n",
    "plt.plot(x, y_train,'r+', label='$f(x) \\pm j$')\n",
    "\n",
    "plt.title('Plot of Training Data $f(x) \\pm j$\\n$f(x) = ({})x^2 + ({})x + ({})$; $j = {}$'.format(poly[0][0], poly[1][0], poly[2][0], j))\n",
    "plt.xlabel('$x$')\n",
    "plt.ylabel('$y$')\n",
    "plt.legend()\n",
    "plt.grid()\n",
    "\n",
    "plt.show()"
   ]
  },
  {
   "cell_type": "markdown",
   "metadata": {},
   "source": [
    "### Task 2 solution - Loss"
   ]
  },
  {
   "cell_type": "code",
   "execution_count": 346,
   "metadata": {},
   "outputs": [
    {
     "name": "stdout",
     "output_type": "stream",
     "text": [
      "LSE of random model: 17125.089361441835\n"
     ]
    }
   ],
   "source": [
    "# Define the model\n",
    "model = quad_poly(coeff_bound=5)\n",
    "y_model = compute_poly(model, x)\n",
    "\n",
    "# Calculate the least squares error\n",
    "lse = least_squares(y_train, y_model)\n",
    "print('LSE of random model: {}'.format(lse))"
   ]
  },
  {
   "cell_type": "code",
   "execution_count": 347,
   "metadata": {},
   "outputs": [
    {
     "data": {
      "image/png": "[encoded data removed]",
      "text/plain": [
       "<Figure size 432x288 with 1 Axes>"
      ]
     },
     "metadata": {
      "needs_background": "light"
     },
     "output_type": "display_data"
    }
   ],
   "source": [
    "# Plot the model & training data for comparison\n",
    "fig1 = plt.figure()\n",
    "plt.plot(x, y_train,'r+', label='Training Data')\n",
    "plt.plot(x, y_model, label='Model Output')\n",
    "\n",
    "plt.title('Model Output vs. Training Data\\nLeast Squares Error = {:.3}'.format(lse))\n",
    "plt.xlabel('$x$')\n",
    "plt.legend()\n",
    "plt.grid()\n",
    "\n",
    "plt.show()"
   ]
  },
  {
   "cell_type": "markdown",
   "metadata": {},
   "source": [
    "### Task 3 solution - Gradient calculation and loss reduction"
   ]
  },
  {
   "cell_type": "markdown",
   "metadata": {},
   "source": [
    "- Partial derivative with respect to $a$:\n",
    "$$\\frac{dE}{da}=\\frac{-2}{n}\\sum\\limits_{i=1}^{n}{x_i^2(y_i-(ax_i^2+bx_i+c))}$$\n",
    "\n",
    "- Partial derivative with respect to $b$:\n",
    "$$\\frac{dE}{db}=\\frac{-2}{n}\\sum\\limits_{i=1}^{n}{x_i(yi-(ax_i^2+bx_i+c))}$$\n",
    "\n",
    "- Partial derivative with respect to $c$:\n",
    "$$\\frac{dE}{dc}=\\frac{-2}{n}\\sum\\limits_{i=1}^{n}{(y_i-(ax_i^2+bx_i+c))}$$"
   ]
  },
  {
   "cell_type": "code",
   "execution_count": 354,
   "metadata": {},
   "outputs": [
    {
     "name": "stdout",
     "output_type": "stream",
     "text": [
      "LSE of random model: 17125.089361441835\n",
      "LSE of updated model: 6250.3810917827195\n",
      "=> model has IMPROVED!\n"
     ]
    }
   ],
   "source": [
    "# Update model coefficients using gradients\n",
    "updated_model = update_coeffs(model, x, y_noisy)\n",
    "y_model_updated = compute_poly(updated_model, x)\n",
    "\n",
    "# Compare loss of original model with updated model\n",
    "lse_updated = least_squares(y_train, y_model_updated)\n",
    "print('LSE of random model: {}\\nLSE of updated model: {}'.format(lse, lse_updated))\n",
    "\n",
    "if lse_updated <= lse:\n",
    "    print('=> model has IMPROVED!')\n",
    "else:\n",
    "    print('=> model has NOT IMPROVED :()')    \n",
    "    \n",
    "# # Apply to updated model vs. training data\n",
    "# print('Apply partial derivative function to model & training data:', LSE_partial_deriv(updated_model, x, y_noisy))"
   ]
  },
  {
   "cell_type": "code",
   "execution_count": 350,
   "metadata": {},
   "outputs": [
    {
     "data": {
      "image/png": "[encoded data removed]",
      "text/plain": [
       "<Figure size 432x288 with 1 Axes>"
      ]
     },
     "metadata": {
      "needs_background": "light"
     },
     "output_type": "display_data"
    }
   ],
   "source": [
    "# Plot the original model, updated model & training data for comparison\n",
    "fig1 = plt.figure()\n",
    "plt.plot(x, y_train,'r+', label='Training Data')\n",
    "plt.plot(x, y_model, label='Model Output')\n",
    "plt.plot(x, y_model_updated, label='Updated Model Output')\n",
    "\n",
    "plt.title('Model & Updated Model Output vs. Training Data\\nLeast Squares Error = {:.3}'.format(lse))\n",
    "plt.xlabel('$x$')\n",
    "plt.legend()\n",
    "plt.grid()\n",
    "\n",
    "plt.show()"
   ]
  },
  {
   "cell_type": "code",
   "execution_count": null,
   "metadata": {},
   "outputs": [],
   "source": []
  }
 ],
 "metadata": {
  "kernelspec": {
   "display_name": "Python 3",
   "language": "python",
   "name": "python3"
  },
  "language_info": {
   "codemirror_mode": {
    "name": "ipython",
    "version": 3
   },
   "file_extension": ".py",
   "mimetype": "text/x-python",
   "name": "python",
   "nbconvert_exporter": "python",
   "pygments_lexer": "ipython3",
   "version": "3.8.8"
  },
  "latex_envs": {
   "LaTeX_envs_menu_present": true,
   "autoclose": false,
   "autocomplete": true,
   "bibliofile": "biblio.bib",
   "cite_by": "apalike",
   "current_citInitial": 1,
   "eqLabelWithNumbers": true,
   "eqNumInitial": 1,
   "hotkeys": {
    "equation": "Ctrl-E",
    "itemize": "Ctrl-I"
   },
   "labels_anchors": false,
   "latex_user_defs": false,
   "report_style_numbering": false,
   "user_envs_cfg": false
  }
 },
 "nbformat": 4,
 "nbformat_minor": 2
}
