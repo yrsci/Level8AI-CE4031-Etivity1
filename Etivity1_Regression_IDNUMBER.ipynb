{
 "cells": [
  {
   "cell_type": "markdown",
   "metadata": {},
   "source": [
    "Name:\n",
    "    \n",
    "Student ID:"
   ]
  },
  {
   "cell_type": "markdown",
   "metadata": {
    "collapsed": true
   },
   "source": [
    "## E-tivity 1: Manual gradient descent\n",
    "\n",
    "In this E-tivity, we will be looking at fitting data to a polynomial, using a manual *gradient descent* approach. This is an important approach that will be fundamental to our neural network models when we get to them later.\n",
    "\n",
    "Please skim through the whole notebook before getting started, as some of the later tasks might influence your choice of design of the early parts.\n",
    "\n",
    "\n",
    "\n",
    "Grading guidelines:\n",
    "\n",
    "**Beginning [0-8]** Task 1 and 2 mostly complete: random data is generated based on a second degree polynomial, jittered, plotted and a loss function can numerically assess the error between actual and predicted outputs.\n",
    "\n",
    "**Developing [9-12]** Beginning + Task 3 and 4 mostly complete: gradients are calculated and used to update a random model that reduces loss. Gradient descent is implemented, but may not converge towards an acceptable solution. Some of the requested plots may be missing.\n",
    "\n",
    "**Accomplished [13-16]** Developing + gradient descent properly converges towards a solution and all requested plots are provided.\n",
    "\n",
    "**Exemplary [17-20]** Accomplished + Task 5 demonstrated on a 3rd order polynomial example.\n",
    "\n",
    "\n",
    "To implement the tasks add cells to the notebook in the appropriate places. Marks will be deducted if the notebook cannot be exexcuted using \"Run All\".\n",
    "\n",
    "**To complete the e-tivity submit your notebook with the code for Tasks 1-5. Do not post Task 5 to gitlab.**"
   ]
  },
  {
   "cell_type": "markdown",
   "metadata": {},
   "source": [
    "### Task 1 - Generating some data\n",
    "\n",
    "We're not going to take any pre-existing data set. Instead, we're going to generate our own data, so we will know exactly what the formula behind it is. We will then start from a random (bad) model and try to fit it to the data as best as we can.\n",
    "\n",
    "- Start by choosing coefficients for a second degree polynomial equation ($ax^2+bx+c$) that will distribute the data you will try to model. That polynomial will be the ideal solution. For example, given respective values of $(2,-4,1)$ for $(a,b,c)$, our base polynomial is: $$y=2x^2-4x+1$$\n",
    "- Implement an evaluation function for any second degree polynomial, which, given a set of coefficients and a given input $x$ returns the corresponding $y$.\n",
    "- Now in order to simulate imperfect/noisy data, write a jittery evaluation function for any polynomial, which, for a given set of coefficients, a given input $x$ and an extra jitter parameter $j$ returns not the corresponding $y$ value but a random value in the interval: $[y-j, y+j]$.\n",
    "- Generate some data by generating 100 random $x$ values in the $[-10,10]$ interval and calling your jittery evaluation function on them. Store those matching $x$ and $y$ values as you see fit.\n",
    "- Finally, using matplotlib, plot that training data."
   ]
  },
  {
   "cell_type": "markdown",
   "metadata": {},
   "source": [
    "**Tip: numpy array processing:**\n",
    "\n",
    "In this E-tivity, you will be manipulating not single numbers but arrays of numbers. It is strongly recommended that you use numpy arrays for that kind of data, and take advantage of in-built array processing for your functions. See the example below for a square function that can seemlessly be used on single values or numpy arrays:"
   ]
  },
  {
   "cell_type": "code",
   "execution_count": null,
   "metadata": {},
   "outputs": [],
   "source": [
    "%matplotlib inline \n",
    "import numpy as np\n",
    "\n",
    "# this square function will work just fine if x is a numpy array\n",
    "def my_square_function(x):\n",
    "    return x*x\n",
    "\n",
    "# testing single values\n",
    "print( my_square_function( 2 ) )\n",
    "print( my_square_function( 3 ) )\n",
    "print( my_square_function( 9 ) )\n",
    "\n",
    "# testing multiple values: numpy array first, then standard python tuple\n",
    "print( my_square_function( np.array([2, 3, 9]) ) ) # works\n",
    "try:\n",
    "    print( my_square_function( [2, 3, 9] ) )       # doesn't work\n",
    "except TypeError:\n",
    "    print( \"TypeError detected\" )"
   ]
  },
  {
   "cell_type": "markdown",
   "metadata": {},
   "source": [
    "Importing the numpy module as 'np' is a typical convention that you will often find in other people's code. Finally, while you likely won't require much more from numpy for this particular E-tivity, feel free to look up some documentation/tutorials if you're curious: it's a key Python module that you're likely to use a lot over time.\n",
    "\n",
    "[Would you like to know more?](https://jakevdp.github.io/PythonDataScienceHandbook/02.02-the-basics-of-numpy-arrays.html)"
   ]
  },
  {
   "cell_type": "markdown",
   "metadata": {},
   "source": [
    "**Tip: generating random numbers:**\n",
    "\n",
    "You will need a way to generate random numbers. A simple way to do that is through the **random** module whose *random.random()* function will return you a random value between 0 and 1 using a uniform distribution. Simply multiply that by a maximum value and you will get a random number between 0 and your maximum.\n",
    "\n",
    "The **numpy** module also has its own random functions, which directly support arrays. The *numpy.random.rand(n)* function will return an array of $n$ random values between 0 and 1. Again, we can simply multiply that array by a maximum value to convert all $[0,1]$ interval values to the $[0,maximum]$ interval."
   ]
  },
  {
   "cell_type": "code",
   "execution_count": null,
   "metadata": {},
   "outputs": [],
   "source": [
    "## random numbers examples\n",
    "\n",
    "import random\n",
    "\n",
    "print( \"Random value 0-1: \" + str( random.random() ) )\n",
    "print( \"Random value 0-1: \" + str( random.random() ) )\n",
    "print( \"Random value 0-1: \" + str( random.random() ) )\n",
    "print( \"Random value 0-100: \" + str( random.random() * 100 ) )\n",
    "print( \"Random value 0-100: \" + str( random.random() * 100 ) )\n",
    "print( \"Random value 0-100: \" + str( random.random() * 100 ) )\n",
    "\n",
    "import numpy as np\n",
    "\n",
    "print( \"10 random values 0-1\" + str( np.random.rand(10) ))\n",
    "print( \"10 random values 0-1\" + str( np.random.rand(10) ))\n",
    "print( \"10 random values 0-1\" + str( np.random.rand(10) ))\n",
    "print( \"10 random values 0-100\" + str( np.random.rand(10) * 100 ))\n",
    "print( \"10 random values 0-100\" + str( np.random.rand(10) * 100 ))\n",
    "print( \"10 random values 0-100\" + str( np.random.rand(10) * 100 ))"
   ]
  },
  {
   "cell_type": "markdown",
   "metadata": {},
   "source": [
    "**Tip: basic plotting with matplotlib:**\n",
    "\n",
    "The *matplotlib.pyplot()* function will be your basic plotting device. Simply call it with two matching sets of numbers, the first being the $x$ values and the second being the $y$ values. Then, an optional third parameter is used to define what you want to draw using those points. The two letter codes in the example below show you how the first character determines a colour ('b' for blue, 'r' for red, 'g' for green) and the second one the type of graphic object to draw ('-' for a line, 'o' for big dots, '+' for crosses). Note how you can overlay multiple plots together before rendering to screen.\n",
    "\n",
    "[Would you like to know more?](https://matplotlib.org/tutorials/introductory/pyplot.html)"
   ]
  },
  {
   "cell_type": "code",
   "execution_count": 1,
   "metadata": {},
   "outputs": [
    {
     "data": {
      "image/png": "[encoded data removed]",
      "text/plain": [
       "<Figure size 432x288 with 1 Axes>"
      ]
     },
     "metadata": {
      "needs_background": "light"
     },
     "output_type": "display_data"
    },
    {
     "data": {
      "image/png": "[encoded data removed]",
      "text/plain": [
       "<Figure size 432x288 with 1 Axes>"
      ]
     },
     "metadata": {
      "needs_background": "light"
     },
     "output_type": "display_data"
    },
    {
     "data": {
      "image/png": "[encoded data removed]",
      "text/plain": [
       "<Figure size 432x288 with 1 Axes>"
      ]
     },
     "metadata": {
      "needs_background": "light"
     },
     "output_type": "display_data"
    }
   ],
   "source": [
    "# matplotlib pyplot, basic plotting\n",
    "import matplotlib.pyplot as plt\n",
    "\n",
    "# blue line\n",
    "plt.plot([1,2,3,4], [1,4,9,16], 'b-')\n",
    "plt.show()\n",
    "\n",
    "# red dots\n",
    "plt.plot([1,2,3,4], [1,4,9,16], 'ro')\n",
    "plt.show()\n",
    "\n",
    "# red line, blue dots and green crosses\n",
    "plt.plot([1,2,3,4], [1,4,9,16], 'r-')\n",
    "plt.plot([1,2,3,4], [1,4,9,16], 'bo')\n",
    "plt.plot([1.5,2.5,3.5,4.5], [3,-2,9,11.4], 'g+')\n",
    "plt.show()"
   ]
  },
  {
   "cell_type": "markdown",
   "metadata": {},
   "source": [
    "## Task 2 - Loss\n",
    "\n",
    "- Generate and store random coefficients for a second degree polynomial ($y=ax^2+bx+c$), this will be your model, which you will aim to improve until it fits the data well enough.\n",
    "- Calculate your model's predicted $\\bar{y}$ output values from the Task 1 training data $x$ input values.\n",
    "- For all the training $x$ values, plot both actual values (the $y$ values from the training data) and the predicted values (the $\\bar{y}$ values from your model) on the same graph, to get an immediate visualisation of how good (or more likely how bad) your current model is.\n",
    "- Implement a loss function, which, given actual values and predicted values, returns the mean squared error. This provides you with a quantified evaluation of how bad the model is: the lower the loss, the better the model.\n",
    "\n",
    "**Tip: Mean Squared Error (MSE):**\n",
    "\n",
    "The MSE is the mean value of the sum of squared differences between actual and predicted outputs. So for input values $x_1,\\dots,x_n$, with actual outputs $y_1,\\dots,y_n$ and predicted values $\\bar{y}_1$ to $\\bar{y}_n$, the MSE $E$ is: $$E=\\frac{1}{n}\\sum\\limits_{i=1}^{n}{(y_i-\\bar{y}_i)^2}$$\n",
    "\n",
    "**Tip: Numpy (again):**\n",
    "\n",
    "Numpy arrays have handy methods to be summed up, mean'ed, etc. Using these may spare you some manual loops."
   ]
  },
  {
   "cell_type": "markdown",
   "metadata": {},
   "source": [
    "## Task 3 - Gradient calculation and loss reduction\n",
    "\n",
    "In order to make your model fit the data better, you want to modify its $a$, $b$ and $c$ coefficients so that the error decreases. That means you first need to know how each coefficient affects the error. We can achieve this by calculating the partial derivative of your loss function with respect to each indifidual coefficient.\n",
    "\n",
    "In our case, our loss function is the MSE, so this is the function we will want to calculate partial derivatives on:\n",
    "$$E=\\frac{1}{n}\\sum\\limits_{i=1}^{n}{(y_i-\\bar{y}_i)^2}$$\n",
    "\n",
    "With:\n",
    "$$\\bar{y}_i = ax_i^2+bx_i+c$$\n",
    "\n",
    "So we can reformulate our loss as:\n",
    "$$E=\\frac{1}{n}\\sum\\limits_{i=1}^{n}{(y_i-(ax_i^2+bx_i+c))^2}$$\n",
    "\n",
    "In this specific case, our partial derivatives for that loss function are the following:\n",
    "\n",
    "- Partial derivative with respect to $a$:\n",
    "$$\\frac{dE}{da}=\\frac{-2}{n}\\sum\\limits_{i=1}^{n}{x_i^2(y_i-(ax_i^2+bx_i+c))}$$\n",
    "\n",
    "- Partial derivative with respect to $b$:\n",
    "$$\\frac{dE}{db}=\\frac{-2}{n}\\sum\\limits_{i=1}^{n}{x_i(yi-(ax_i^2+bx_i+c))}$$\n",
    "\n",
    "- Partial derivative with respect to $c$:\n",
    "$$\\frac{dE}{dc}=\\frac{-2}{n}\\sum\\limits_{i=1}^{n}{(y_i-(ax_i^2+bx_i+c))}$$\n",
    "\n",
    "If you calculate the value of each derivatives when filling up all other variables, what you get is the $gradients$ for your coefficients. These are the values that give you the slope of the loss function with regards to each specific coefficient, indicating whether you should increase or decrease it to reduce the loss, and also by how much it should be safe to do so.\n",
    "\n",
    "Given coefficients $a$, $b$ and $c$, calculated gradients $g_a$, $g_b$ and $g_c$ and a learning rate $lr$, you typically would update your coefficients so that their new, updated values are defined as below:\n",
    "\n",
    "$$a_{new}=a-lr\\times g_a$$\n",
    "$$b_{new}=b-lr\\times g_b$$\n",
    "$$c_{new}=c-lr\\times g_c$$\n",
    "\n",
    "If you apply that new model to the data, your loss should have decreased.\n",
    "\n",
    "- Decide on a learning rate to start with. It should be a small value, try starting with $0.0001$ but feel free to experiment with different values.\n",
    "- Implement a gradient calculation function which, given a second degree polynomial's coefficients, as well as a set of inputs $x$ and a corresponding set of actual outputs $y$ will return the respective gradients for each coefficient.\n",
    "- Check the loss of your current model, call your gradient calculation function, adjust your model's coefficients accordingly, and check that the updated model's loss is smaller.\n",
    "- Check this improvement visually by plotting training data, original model and updated model on a same plot."
   ]
  },
  {
   "cell_type": "markdown",
   "metadata": {},
   "source": [
    "## Task 4 - Gradient descent\n",
    "\n",
    "All the pieces are in place to converge onto a solution and you can finish implementing your gradient descent.:\n",
    "\n",
    "- Iterate over the following steps:\n",
    "    - evaluate current model loss\n",
    "    - calculate gradients\n",
    "    - adjust model coefficients\n",
    "    - calculate new model loss\n",
    "- As you do so, store the loss at each step or every $n$ steps.\n",
    "- Choose and implement a condition to decide when to stop iterating, and return the final results when that condition is met.\n",
    "- Plot both your actual $x$ and $y$ training data and your $x$ and $\\bar{y}$ predicted data, and see how your final model fares. Print out the final coefficients: they shouldn't be too far off the ones you used to generate the data originally.\n",
    "- Plot the loss value over iterations."
   ]
  },
  {
   "cell_type": "markdown",
   "metadata": {},
   "source": [
    "## Task 5 - Gradient descent: All of the polynomials!\n",
    "\n",
    "If you've reach this point, well done! You have implemented your own gradient descent approach to fitting a second degree polynomial to any given data set. As a final step, see if you can take the challenge a bit further by adapting your code to polynomial models of any arbitrary degree.\n",
    "\n",
    "For a polynomial of any order, using the MSE as loss function, the generic formula for the gradient $g_k$ of the coefficient of the $k^{th}$ degree is the following:\n",
    "$$g_k=\\frac{-2}{n}\\sum\\limits_{i=1}^{n}{x_i^k(y_i-\\bar{y}_i)}$$\n",
    "\n",
    "With this in mind, see if you can implement a new codebase that will try to fit a polynomials of any degree instead of being hard coded to the second degree.\n",
    "\n",
    "Note that you may need to work on a smaller data interval, for example $[-2,2]$ and with small coefficients, in order to avoid running into overflow errors. While your code should be generic and theoretically cover polynomials of any given order, it's good enough if you can demonstrate that it works on a 3rd order polynomial example."
   ]
  },
  {
   "cell_type": "code",
   "execution_count": null,
   "metadata": {},
   "outputs": [],
   "source": []
  }
 ],
 "metadata": {
  "kernelspec": {
   "display_name": "Python 3 (ipykernel)",
   "language": "python",
   "name": "python3"
  },
  "language_info": {
   "codemirror_mode": {
    "name": "ipython",
    "version": 3
   },
   "file_extension": ".py",
   "mimetype": "text/x-python",
   "name": "python",
   "nbconvert_exporter": "python",
   "pygments_lexer": "ipython3",
   "version": "3.7.12"
  },
  "latex_envs": {
   "LaTeX_envs_menu_present": true,
   "autoclose": false,
   "autocomplete": true,
   "bibliofile": "biblio.bib",
   "cite_by": "apalike",
   "current_citInitial": 1,
   "eqLabelWithNumbers": true,
   "eqNumInitial": 1,
   "hotkeys": {
    "equation": "Ctrl-E",
    "itemize": "Ctrl-I"
   },
   "labels_anchors": false,
   "latex_user_defs": false,
   "report_style_numbering": false,
   "user_envs_cfg": false
  }
 },
 "nbformat": 4,
 "nbformat_minor": 2
}
